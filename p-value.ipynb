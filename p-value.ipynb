{
 "cells": [
  {
   "cell_type": "code",
   "execution_count": 1,
   "id": "29edd60f",
   "metadata": {},
   "outputs": [],
   "source": [
    "import re\n",
    "import csv\n",
    "import glob\n",
    "\n",
    "# List of log files to process\n",
    "log_files = [f\"logging/logs/run_{i}.log\" for i in range(1, 11)]\n",
    "\n",
    "# Regular expression to match table rows\n",
    "row_pattern = re.compile(\n",
    "    r\"\\|\\s*(\\w+)\\s*\\|\\s*(\\w+)\\s*\\|\\s*([\\d.]+)\\s*\\|\\s*([\\d.]+)\\s*\\|\\s*([\\d.]+)\\s*\\|\\s*([\\d.]+)\\s*\\|\"\n",
    ")\n",
    "\n",
    "# Output CSV file\n",
    "output_csv = \"combined_log_table.csv\"\n",
    "\n",
    "# Collect all rows\n",
    "all_rows = []\n",
    "\n",
    "for log_file in log_files:\n",
    "    with open(log_file, \"r\") as f:\n",
    "        for line in f:\n",
    "            match = row_pattern.match(line)\n",
    "            if match:\n",
    "                all_rows.append(match.groups())"
   ]
  },
  {
   "cell_type": "code",
   "execution_count": 2,
   "id": "e1c6fa9f",
   "metadata": {},
   "outputs": [
    {
     "name": "stdout",
     "output_type": "stream",
     "text": [
      "P-value for the hypothesis that tta_val_acc > 0.9400: 1.0778607131360659e-06\n"
     ]
    }
   ],
   "source": [
    "# Now calculate the p-value for the hypothesis that tta_val_acc is > 0.9400\n",
    "from scipy import stats\n",
    "\n",
    "# Extract tta_val_acc values\n",
    "tta_val_acc_values = [float(row[4]) for row in all_rows if row[0] != \"warmup\"]\n",
    "\n",
    "# Perform one-sided t-test\n",
    "t_stat, p_value = stats.ttest_1samp(tta_val_acc_values, 0.9400)\n",
    "p_value = p_value / 2  # One-sided test\n",
    "\n",
    "print(f\"P-value for the hypothesis that tta_val_acc > 0.9400: {p_value}\")"
   ]
  },
  {
   "cell_type": "code",
   "execution_count": 3,
   "id": "226db5e0",
   "metadata": {},
   "outputs": [
    {
     "name": "stdout",
     "output_type": "stream",
     "text": [
      "Accuracies: Mean: 0.940139    Std: 0.001310\n",
      "Times (s):  Mean: 2.030108    Std: 0.001226\n"
     ]
    }
   ],
   "source": [
    "mean_acc = sum(tta_val_acc_values) / len(tta_val_acc_values)\n",
    "std_acc = (sum((x - mean_acc) ** 2 for x in tta_val_acc_values) / (len(tta_val_acc_values) - 1)) ** 0.5\n",
    "mean_time = sum(float(row[5]) for row in all_rows if row[0] != \"warmup\") / len(tta_val_acc_values)\n",
    "std_time = (sum((float(row[5]) - mean_time) ** 2 for row in all_rows if row[0] != \"warmup\") / (len(tta_val_acc_values) - 1)) ** 0.5\n",
    "\n",
    "print(\"Accuracies: Mean: %.6f    Std: %.6f\" % (mean_acc, std_acc))\n",
    "print(\"Times (s):  Mean: %.6f    Std: %.6f\" % (mean_time, std_time))"
   ]
  }
 ],
 "metadata": {
  "kernelspec": {
   "display_name": "Python 3",
   "language": "python",
   "name": "python3"
  },
  "language_info": {
   "codemirror_mode": {
    "name": "ipython",
    "version": 3
   },
   "file_extension": ".py",
   "mimetype": "text/x-python",
   "name": "python",
   "nbconvert_exporter": "python",
   "pygments_lexer": "ipython3",
   "version": "3.12.11"
  }
 },
 "nbformat": 4,
 "nbformat_minor": 5
}
